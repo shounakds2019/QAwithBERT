{
 "cells": [
  {
   "cell_type": "markdown",
   "metadata": {
    "id": "KKwgFHVvRMql"
   },
   "source": [
    "## Question-Answering with BERT test\n",
    "\n",
    "I implement and train a (distil)BERT model for Question and Answering on a subset of the [SQuAD v2.0](https://rajpurkar.github.io/SQuAD-explorer/) dataset. \n",
    "1. Convert the data to tensors using the BERT tokenizer\n",
    "2. Train a model for Question-Answering by tuning on top of a pre-trained BERT model \n",
    "\n",
    "I use distBERT in this lab because it is significantly smaller and faster than BERT, but with very similar performance. Even though I am using distBERT, I will call it BERT throughout this application.\n",
    "\n",
    "I run this on Google Colab with a GPU backend."
   ]
  },
  {
   "cell_type": "code",
   "execution_count": 1,
   "metadata": {
    "colab": {
     "base_uri": "https://localhost:8080/"
    },
    "id": "3WPxNcyqm-gS",
    "outputId": "c7eff3eb-f84f-4414-d9e5-96c09dd61358"
   },
   "outputs": [
    {
     "name": "stdout",
     "output_type": "stream",
     "text": [
      "Collecting pulp\n",
      "\u001b[?25l  Downloading https://files.pythonhosted.org/packages/14/c4/0eec14a0123209c261de6ff154ef3be5cad3fd557c084f468356662e0585/PuLP-2.4-py3-none-any.whl (40.6MB)\n",
      "\u001b[K     |████████████████████████████████| 40.6MB 1.2MB/s \n",
      "\u001b[?25hCollecting amply>=0.1.2\n",
      "  Downloading https://files.pythonhosted.org/packages/f3/c5/dfa09dd2595a2ab2ab4e6fa7bebef9565812722e1980d04b0edce5032066/amply-0.1.4-py3-none-any.whl\n",
      "Requirement already satisfied: pyparsing in /usr/local/lib/python3.7/dist-packages (from amply>=0.1.2->pulp) (2.4.7)\n",
      "Requirement already satisfied: docutils>=0.3 in /usr/local/lib/python3.7/dist-packages (from amply>=0.1.2->pulp) (0.17)\n",
      "Installing collected packages: amply, pulp\n",
      "Successfully installed amply-0.1.4 pulp-2.4\n",
      "Collecting transformers\n",
      "\u001b[?25l  Downloading https://files.pythonhosted.org/packages/d8/b2/57495b5309f09fa501866e225c84532d1fd89536ea62406b2181933fb418/transformers-4.5.1-py3-none-any.whl (2.1MB)\n",
      "\u001b[K     |████████████████████████████████| 2.1MB 13.9MB/s \n",
      "\u001b[?25hRequirement already satisfied: numpy>=1.17 in /usr/local/lib/python3.7/dist-packages (from transformers) (1.19.5)\n",
      "Requirement already satisfied: packaging in /usr/local/lib/python3.7/dist-packages (from transformers) (20.9)\n",
      "Collecting tokenizers<0.11,>=0.10.1\n",
      "\u001b[?25l  Downloading https://files.pythonhosted.org/packages/ae/04/5b870f26a858552025a62f1649c20d29d2672c02ff3c3fb4c688ca46467a/tokenizers-0.10.2-cp37-cp37m-manylinux2010_x86_64.whl (3.3MB)\n",
      "\u001b[K     |████████████████████████████████| 3.3MB 54.2MB/s \n",
      "\u001b[?25hRequirement already satisfied: requests in /usr/local/lib/python3.7/dist-packages (from transformers) (2.23.0)\n",
      "Requirement already satisfied: filelock in /usr/local/lib/python3.7/dist-packages (from transformers) (3.0.12)\n",
      "Requirement already satisfied: importlib-metadata; python_version < \"3.8\" in /usr/local/lib/python3.7/dist-packages (from transformers) (3.10.1)\n",
      "Collecting sacremoses\n",
      "\u001b[?25l  Downloading https://files.pythonhosted.org/packages/08/cd/342e584ee544d044fb573ae697404ce22ede086c9e87ce5960772084cad0/sacremoses-0.0.44.tar.gz (862kB)\n",
      "\u001b[K     |████████████████████████████████| 870kB 49.6MB/s \n",
      "\u001b[?25hRequirement already satisfied: tqdm>=4.27 in /usr/local/lib/python3.7/dist-packages (from transformers) (4.41.1)\n",
      "Requirement already satisfied: regex!=2019.12.17 in /usr/local/lib/python3.7/dist-packages (from transformers) (2019.12.20)\n",
      "Requirement already satisfied: pyparsing>=2.0.2 in /usr/local/lib/python3.7/dist-packages (from packaging->transformers) (2.4.7)\n",
      "Requirement already satisfied: idna<3,>=2.5 in /usr/local/lib/python3.7/dist-packages (from requests->transformers) (2.10)\n",
      "Requirement already satisfied: urllib3!=1.25.0,!=1.25.1,<1.26,>=1.21.1 in /usr/local/lib/python3.7/dist-packages (from requests->transformers) (1.24.3)\n",
      "Requirement already satisfied: certifi>=2017.4.17 in /usr/local/lib/python3.7/dist-packages (from requests->transformers) (2020.12.5)\n",
      "Requirement already satisfied: chardet<4,>=3.0.2 in /usr/local/lib/python3.7/dist-packages (from requests->transformers) (3.0.4)\n",
      "Requirement already satisfied: zipp>=0.5 in /usr/local/lib/python3.7/dist-packages (from importlib-metadata; python_version < \"3.8\"->transformers) (3.4.1)\n",
      "Requirement already satisfied: typing-extensions>=3.6.4; python_version < \"3.8\" in /usr/local/lib/python3.7/dist-packages (from importlib-metadata; python_version < \"3.8\"->transformers) (3.7.4.3)\n",
      "Requirement already satisfied: six in /usr/local/lib/python3.7/dist-packages (from sacremoses->transformers) (1.15.0)\n",
      "Requirement already satisfied: click in /usr/local/lib/python3.7/dist-packages (from sacremoses->transformers) (7.1.2)\n",
      "Requirement already satisfied: joblib in /usr/local/lib/python3.7/dist-packages (from sacremoses->transformers) (1.0.1)\n",
      "Building wheels for collected packages: sacremoses\n",
      "  Building wheel for sacremoses (setup.py) ... \u001b[?25l\u001b[?25hdone\n",
      "  Created wheel for sacremoses: filename=sacremoses-0.0.44-cp37-none-any.whl size=886084 sha256=77c3f110f0481b3cef284aebb774b775947c8fb0802711b642321397d92881e0\n",
      "  Stored in directory: /root/.cache/pip/wheels/3e/fb/c0/13ab4d63d537658f448366744654323077c4d90069b6512f3c\n",
      "Successfully built sacremoses\n",
      "Installing collected packages: tokenizers, sacremoses, transformers\n",
      "Successfully installed sacremoses-0.0.44 tokenizers-0.10.2 transformers-4.5.1\n",
      "Mounted at /content/gdrive\n"
     ]
    }
   ],
   "source": [
    "!pip install pulp\n",
    "!pip install transformers\n",
    "from google.colab import drive\n",
    "drive.mount('/content/gdrive')"
   ]
  },
  {
   "cell_type": "markdown",
   "metadata": {
    "id": "mVe9XpXPRMqm"
   },
   "source": [
    "## Getting Started\n",
    "\n",
    "Access relevant modules"
   ]
  },
  {
   "cell_type": "code",
   "execution_count": 1,
   "metadata": {
    "id": "aXd_5YurRMqm"
   },
   "outputs": [],
   "source": [
    "import numpy as np\n",
    "import torch\n",
    "import pulp\n",
    "import torch.nn as nn\n",
    "import torch.nn.functional as F\n",
    "import torch.optim as optim\n",
    "from transformers import DistilBertTokenizer, DistilBertForQuestionAnswering\n",
    "from torch.utils.data import Dataset, DataLoader\n",
    "from sklearn.metrics import accuracy_score\n",
    "import os"
   ]
  },
  {
   "cell_type": "code",
   "execution_count": 3,
   "metadata": {
    "colab": {
     "base_uri": "https://localhost:8080/"
    },
    "id": "NXyG_jg9ReP-",
    "outputId": "0966d20e-e90a-4e5d-9a8b-f17a33f34088"
   },
   "outputs": [
    {
     "name": "stdout",
     "output_type": "stream",
     "text": [
      "cuda\n"
     ]
    }
   ],
   "source": [
    "# set the pseudo-random generator\n",
    "import torch\n",
    "manual_seed = 77\n",
    "torch.manual_seed(manual_seed)\n",
    "device = torch.device(\"cuda\" if torch.cuda.is_available() else \"cpu\")\n",
    "print(device)\n",
    "n_gpu = torch.cuda.device_count()\n",
    "if n_gpu > 0:\n",
    "    torch.cuda.manual_seed(manual_seed)"
   ]
  },
  {
   "cell_type": "markdown",
   "metadata": {
    "id": "bmzOERS4RMqq"
   },
   "source": [
    "## Download the SQuAD data from [google drive](https://drive.google.com/file/d/1tzpxoIW9ES33nUN_jouBaOfockXodWTX/view?usp=sharing)"
   ]
  },
  {
   "cell_type": "code",
   "execution_count": 4,
   "metadata": {
    "id": "RZ9_ABDURMqq"
   },
   "outputs": [],
   "source": [
    "squad_path = '/content/gdrive/MyDrive/Colab Notebooks/data/squad/'"
   ]
  },
  {
   "cell_type": "markdown",
   "metadata": {
    "id": "1EhCTfduRMqt"
   },
   "source": [
    "## Tidy Submission\n",
    "rubric={mechanics:1}\n",
    "\n",
    "To get the marks for tidy submission:\n",
    "- Submit the assignment by filling in this Jupyter notebook with your answers embedded\n",
    "- Be sure to follow the instructions"
   ]
  },
  {
   "cell_type": "markdown",
   "metadata": {
    "id": "L7Ei4yBlRMqt"
   },
   "source": [
    "## Convert data to BERT tensors"
   ]
  },
  {
   "cell_type": "code",
   "execution_count": 5,
   "metadata": {
    "colab": {
     "base_uri": "https://localhost:8080/",
     "height": 164,
     "referenced_widgets": [
      "9807a51d412844cc94820a80e46050e8",
      "69b0ab7338af470d9a51e58d4190477a",
      "fcf1c25a1d0f405dbe33c49b5abd2abf",
      "5345fa611826412eb46c2fed23592182",
      "9a5d4d6ccd114e218ca4e00861c06fbd",
      "00fbed31abf342bca71412e28162223f",
      "bac45c29b5af4061b9ebaceffa03e227",
      "9c132249ca8f4c6ea4de83ead90c5510",
      "39b8fc67b05f4920b47c10f7f8423961",
      "05bd6cfac9a04fe0bcb265436414caad",
      "edcd45f568984cbfaad12b85dcbc8ad5",
      "63db6f9bcf66455bba23eea9f868448b",
      "2f4392115efe4c73a6ec9d695e2bfab9",
      "efa3d5a8ccb84536a3b88d35486d4df3",
      "fa409aefb0024c559b5b5bd9b442e6e5",
      "307521df260b40fc9bf7b33b10ceafa8",
      "86aaa2fb6e6b496d90a3b33a662db156",
      "09595a8d34ef4ac8b3f1f8c0404fb51a",
      "a672862058dc42c7b1fe09685f831855",
      "e66071e0211045db9b3463aaf47eb595",
      "5dafd719ba334a92b02ad11c08f21041",
      "1bcf3c597aeb421d88bcd69f2e33c368",
      "ae0f4ac1d53a467bb132577c7dc8f404",
      "6c44d628fdc341b4816f97a1dffaefca"
     ]
    },
    "id": "SP00GzbiRMqu",
    "outputId": "e2cd4448-ad68-4a20-cd70-712a1b61a12b"
   },
   "outputs": [
    {
     "data": {
      "application/vnd.jupyter.widget-view+json": {
       "model_id": "9807a51d412844cc94820a80e46050e8",
       "version_major": 2,
       "version_minor": 0
      },
      "text/plain": [
       "HBox(children=(FloatProgress(value=0.0, description='Downloading', max=231508.0, style=ProgressStyle(descripti…"
      ]
     },
     "metadata": {
      "tags": []
     },
     "output_type": "display_data"
    },
    {
     "name": "stdout",
     "output_type": "stream",
     "text": [
      "\n"
     ]
    },
    {
     "data": {
      "application/vnd.jupyter.widget-view+json": {
       "model_id": "39b8fc67b05f4920b47c10f7f8423961",
       "version_major": 2,
       "version_minor": 0
      },
      "text/plain": [
       "HBox(children=(FloatProgress(value=0.0, description='Downloading', max=28.0, style=ProgressStyle(description_w…"
      ]
     },
     "metadata": {
      "tags": []
     },
     "output_type": "display_data"
    },
    {
     "name": "stdout",
     "output_type": "stream",
     "text": [
      "\n"
     ]
    },
    {
     "data": {
      "application/vnd.jupyter.widget-view+json": {
       "model_id": "86aaa2fb6e6b496d90a3b33a662db156",
       "version_major": 2,
       "version_minor": 0
      },
      "text/plain": [
       "HBox(children=(FloatProgress(value=0.0, description='Downloading', max=466062.0, style=ProgressStyle(descripti…"
      ]
     },
     "metadata": {
      "tags": []
     },
     "output_type": "display_data"
    },
    {
     "name": "stdout",
     "output_type": "stream",
     "text": [
      "\n"
     ]
    }
   ],
   "source": [
    "\n",
    "tokenizer = DistilBertTokenizer.from_pretrained('distilbert-base-uncased')\n",
    "\n",
    "\n",
    "def convert_to_BERT_tensors(questions, contexts):\n",
    "    '''takes a parallel list of question strings and answer strings'''\n",
    "    #your code here\n",
    "    tok = tokenizer(questions,contexts, padding='max_length', truncation=True, max_length=512, return_tensors=\"pt\")\n",
    "    #print(\"input_ids\",tok['input_ids'])\n",
    "    # print(\"attention_mask\",tok['attention_mask'])\n",
    "    return tok['input_ids'],tok['attention_mask']\n"
   ]
  },
  {
   "cell_type": "code",
   "execution_count": 6,
   "metadata": {
    "colab": {
     "base_uri": "https://localhost:8080/"
    },
    "id": "W_fq2PNTRMqx",
    "outputId": "dca9cda2-38d2-4f29-af4f-99ced3869a7b"
   },
   "outputs": [
    {
     "name": "stdout",
     "output_type": "stream",
     "text": [
      "Success!\n"
     ]
    }
   ],
   "source": [
    "test_questions = [\"Why?\", \"How?\"]\n",
    "test_contexts = [\"I think it is because we can bluminate\", \"It was done\"\" \".join([\"very\"]*1000) + \" well\"]\n",
    "\n",
    "ids, mask = convert_to_BERT_tensors(test_questions,test_contexts)\n",
    "assert ids.shape == (2,512) # 512 because that's the max allowed\n",
    "assert ids[0][3] == 102 # fourth token is separator\n",
    "assert list(ids[0][-100:]) == [0]*100 # first row is mostly padding\n",
    "assert list(ids[1][-100:]) != [0]*100 # second row is not\n",
    "assert list(mask[0][-100:]) == [0]*100 # first row padding is masked\n",
    "assert list(mask[1][-100:]) != [0]*100 # second row is not padding, no mask\n",
    "print(\"Success!\")"
   ]
  },
  {
   "cell_type": "markdown",
   "metadata": {
    "id": "LYW5MOfqRMq2"
   },
   "source": [
    "### Create question and answer spans"
   ]
  },
  {
   "cell_type": "code",
   "execution_count": 53,
   "metadata": {
    "id": "m4rO8WzdfbXF"
   },
   "outputs": [],
   "source": [
    "def get_answer_span_tensor(question,context,answer):\n",
    "\n",
    "    ques_context = tokenizer.tokenize(question + \"sep \" + context)\n",
    "    answer = tokenizer.tokenize(answer)\n",
    "    ques_context.insert(0, \"cls\")\n",
    "    ques_context = ques_context[:512]\n",
    "\n",
    "    match_str = \"*\".join(answer)\n",
    "    context_str = \"*\".join(ques_context)\n",
    "    \n",
    "    start_index = context_str.find(match_str)\n",
    "    \n",
    "    if start_index == -1:\n",
    "        end_index = 0\n",
    "        start_index = 0\n",
    "        return torch.tensor([start_index, end_index])\n",
    "        \n",
    "    end_index = start_index + len(match_str) - 1\n",
    "    \n",
    "    token = 0\n",
    "    for index,char in enumerate(context_str):\n",
    "        if char == \"*\":\n",
    "            token+=1\n",
    "\n",
    "        if index == start_index:\n",
    "            start_index = token\n",
    "\n",
    "        if index == end_index:    \n",
    "            end_index = token\n",
    "\n",
    "    return torch.tensor([start_index, end_index])\n"
   ]
  },
  {
   "cell_type": "code",
   "execution_count": 8,
   "metadata": {
    "colab": {
     "base_uri": "https://localhost:8080/"
    },
    "id": "RgFinF9_RMq5",
    "outputId": "f24e6fd7-2392-4bb6-a078-b83df967c184",
    "scrolled": true
   },
   "outputs": [
    {
     "name": "stdout",
     "output_type": "stream",
     "text": [
      "tensor([11, 15])\n",
      "tensor([395, 399])\n",
      "tensor([74, 74])\n",
      "Success!\n"
     ]
    }
   ],
   "source": [
    "test_question = \"Why?\"\n",
    "test_context1 = \"I think it is because we can bluminate\"\n",
    "test_context2 = \"I think it is because we can because we can bluminate\"\n",
    "\n",
    "test_answer = \"because we can bluminate\"\n",
    "bad_answer  = \"because we can fumiage\"\n",
    "span = get_answer_span_tensor(test_question,test_context1,test_answer)\n",
    "\n",
    "assert span.shape == (2,)\n",
    "assert list(span) == [8,12]\n",
    "\n",
    "span = get_answer_span_tensor(test_question,test_context2,test_answer)\n",
    "print(span)\n",
    "assert list(span) == [11,15]\n",
    "\n",
    "span = get_answer_span_tensor(test_question,test_context1,bad_answer)\n",
    "assert list(span) == [0,0]\n",
    "\n",
    "test_context = \"\"\"after a three-year hiatus , a fifth digimon series began airing on april 2 , 2006 . like frontier , savers has no connection with the previous installments , and also marks a new start for the digimon franchise , with a drastic change in character designs and story-line , in order to reach a broader audience . the story focuses on the challenges faced by the members of d.a.t.s . ( \" digital accident tactics squad \" ) , an organization created to conceal the existence of the digital world and digimon from the rest of mankind , and secretly solve any digimon-related incidents occurring on earth . later the d.a.t.s . is dragged into a massive conflict between earth and the digital world , triggered by an ambitious human scientist named akihiro kurata , determined to make use of the digimon for his own personal gains . the english version was dubbed by studiopolis and it premiered on the jetix block on toon disney on october 1 , 2007 . digivolution in data squad requires the human partner 's dna ( \" digital natural ability \" in the english version and \" digisoul \" in the japanese version ) to activate , a strong empathy with their digimon and a will to succeed . 'digimon savers ' also introduces a new form of digivolving called burst mode which is essentially the level above mega ( previously the strongest form a digimon could take ) . like previously in tamers , this plot takes on a dark tone throughout the story and the anime was aimed , originally in japan , at an older audience consisting of late teens and people in their early twenties from ages 16 to 21 . because of that , along with the designs , the anime being heavily edited and localized for western us audiences like past series , and the english dub being aimed mostly toward younger audiences of children aged 6 to 10 and having a lower tv-y7-fv rating just like past dubs , studiopolis dubbed the anime on jetix with far more edits , changes , censorship , and cut footage . this included giving the japanese characters full americanized names and american surnames as well as applying far more americanization ( marcus damon as opposed to the japanese daimon masaru ) , cultural streamlining and more edits to their version similar to the changes 4kids often made ( such as removal of japanese text for the purpose of cultural streamlining ) . despite all that , the setting of the country was still in japan and the characters were japanese in the dub . this series was the first to show any japanese cultural concepts that were unfamiliar with american audiences ( such as the manju ) , which were left unedited and used in the english dub . also despite the heavy censorship and the english dub aimed at young children , some of the digimon 's attacks named after real weapons such as rizegreymon 's trident revolver are not edited and used in the english dub . well go usa released it on dvd instead of disney . the north american english dub was televised on jetix in the u.s. and on the family channel in canada .\"\"\"\n",
    "test_question = \"what was the original target age for the digimon series ?\"\n",
    "test_answer = \"children aged 6 to 10\"\n",
    "span = get_answer_span_tensor(test_question,test_context,test_answer)\n",
    "print(span)\n",
    "\n",
    "\n",
    "test_question = \"when did universal inaugurate its studio tour subsidiary ?\"\n",
    "test_context = \"the long-awaited takeover of universal pictures by mca , inc. happened in mid-1962 as part of the mca-decca records merger . the company reverted in name to universal pictures . as a final gesture before leaving the talent agency business , virtually every mca client was signed to a universal contract . in 1964 mca formed universal city studios , inc. , merging the motion pictures and television arms of universal pictures company and revue productions ( officially renamed as universal television in 1966 ) . and so , with mca in charge , universal became a full-blown , a-film movie studio , with leading actors and directors under contract ; offering slick , commercial films ; and a studio tour subsidiary launched in 1964 . television production made up much of the studio 's output , with universal heavily committed , in particular , to deals with nbc ( which later merged with universal to form nbc universal ; see below ) providing up to half of all prime time shows for several seasons . an innovation during this period championed by universal was the made-for-television movie .\"\n",
    "test_answer = \"1964\"\n",
    "span = get_answer_span_tensor(test_question,test_context,test_answer)\n",
    "print(span)\n",
    "\n",
    "print('Success!')\n"
   ]
  },
  {
   "cell_type": "markdown",
   "metadata": {
    "id": "pAct5U8Xm-gX"
   },
   "source": [
    "### Dataloader QAdataset"
   ]
  },
  {
   "cell_type": "code",
   "execution_count": 9,
   "metadata": {
    "id": "wyBMEyJxm-gY"
   },
   "outputs": [],
   "source": [
    "batch_size = 16\n",
    "\n",
    "class QAdataset(Dataset):\n",
    "    '''A dataset for housing QA data, including input_data, output_data, and padding mask'''\n",
    "    def __init__(self, input_data, output_data,mask):\n",
    "        self.input_data = input_data\n",
    "        self.output_data = output_data\n",
    "        self.mask = mask\n",
    "        \n",
    "    def __len__(self):\n",
    "        return len(self.input_data)\n",
    "    \n",
    "    def __getitem__(self, index):\n",
    "        target = self.output_data[index]\n",
    "        data_val = self.input_data[index]\n",
    "        mask = self.mask[index]\n",
    "        return data_val,target,mask "
   ]
  },
  {
   "cell_type": "code",
   "execution_count": 10,
   "metadata": {
    "id": "2fto7quXm-gY"
   },
   "outputs": [],
   "source": [
    "train_files = ['train/' + filename for filename in os.listdir(squad_path + 'train')]\n",
    "dev_files = ['dev/' + filename for filename in os.listdir(squad_path + 'dev')]\n",
    "test_files = ['test/' + filename for filename in os.listdir(squad_path + 'test')]\n",
    "train_files, dev_files, test_files = sorted(train_files), sorted(dev_files), sorted(test_files)\n",
    "dev_and_train = sorted(train_files + dev_files)"
   ]
  },
  {
   "cell_type": "code",
   "execution_count": 11,
   "metadata": {
    "colab": {
     "base_uri": "https://localhost:8080/"
    },
    "id": "6z0MeUbTE9z4",
    "outputId": "e0fd7a49-1da8-415c-dc08-2ad03c020805"
   },
   "outputs": [
    {
     "data": {
      "text/plain": [
       "['train/train.answer',\n",
       " 'train/train.context',\n",
       " 'train/train.question',\n",
       " 'train/train.span']"
      ]
     },
     "execution_count": 11,
     "metadata": {
      "tags": []
     },
     "output_type": "execute_result"
    }
   ],
   "source": [
    "train_files"
   ]
  },
  {
   "cell_type": "code",
   "execution_count": 12,
   "metadata": {
    "id": "3MemZJrWCz07"
   },
   "outputs": [],
   "source": [
    "def read_SQUAD_data(squad_files):\n",
    "    '''create IOB-data for all the SRL-tagged Ontonotes files in srl_files. Output should be a tuple\n",
    "    consisting of a list of lists of (token, is_target_pred) pairs , and a list of lists of dummy IOB tags'''\n",
    "\n",
    "    #your code here\n",
    "    questions = []\n",
    "    answers = []\n",
    "    spans = []\n",
    "    context = []\n",
    "\n",
    "    for file in squad_files:\n",
    "        file_path = squad_path + file\n",
    "        f = open(file_path,'r')\n",
    "        for line in f:\n",
    "          if file.endswith(\".question\"):\n",
    "            questions.append(line)\n",
    "          if file.endswith(\".answer\"):\n",
    "            answers.append(line)            \n",
    "          if file.endswith(\".span\"):\n",
    "            spans.append(line)            \n",
    "          if file.endswith(\".context\"):\n",
    "            context.append(line)            \n",
    "\n",
    "        \n",
    "    return context, questions, answers, spans"
   ]
  },
  {
   "cell_type": "code",
   "execution_count": 13,
   "metadata": {
    "id": "FhZqvQEvGr2d"
   },
   "outputs": [],
   "source": [
    "def convert2tensors(questions,contexts,answers,spans):\n",
    "  id_tensors = []\n",
    "  span_tensors = []\n",
    "  mask_tensors = []\n",
    "  count = 0\n",
    "  for question, context, span, answer in zip(questions, contexts, spans, answers):\n",
    "    count +=1\n",
    "    if count % 10000   == 0:\n",
    "      print(\"Processing row %s of %s\" % (count, len(questions)),end=\"\\n\")\n",
    "    ids, mask = convert_to_BERT_tensors(question,context)\n",
    "    span = get_answer_span_tensor(question, context, answer)\n",
    "    if list(span)[0] > 512 or list(span)[1] > 512:\n",
    "      print(\"WARNING on \",question)\n",
    "\n",
    "    id_tensors.append(ids)\n",
    "    span_tensors.append(span)\n",
    "    mask_tensors.append(mask)\n",
    "\n",
    "  return id_tensors, span_tensors, mask_tensors"
   ]
  },
  {
   "cell_type": "code",
   "execution_count": 14,
   "metadata": {
    "id": "Vjmbz9MgB6Ee"
   },
   "outputs": [],
   "source": [
    "def prepare_dataset(files):\n",
    "    '''given a list of qa, contexts and corrected spans, loads them into a pytorch Dataset'''\n",
    "    contexts, questions, answers, spans = read_SQUAD_data(files)\n",
    "    id_tensors, span_tensors, mask_tensors = convert2tensors(questions,contexts,answers,spans)\n",
    "    return QAdataset(id_tensors, span_tensors, mask_tensors)\n"
   ]
  },
  {
   "cell_type": "code",
   "execution_count": 15,
   "metadata": {
    "colab": {
     "base_uri": "https://localhost:8080/"
    },
    "id": "nyLsWly3B8JT",
    "outputId": "2e800544-e1aa-4a24-94ba-ea8b623429b9"
   },
   "outputs": [
    {
     "name": "stdout",
     "output_type": "stream",
     "text": [
      "Processing row 10000 of 77558\n",
      "Processing row 20000 of 77558\n",
      "Processing row 30000 of 77558\n",
      "Processing row 40000 of 77558\n",
      "Processing row 50000 of 77558\n",
      "Processing row 60000 of 77558\n",
      "Processing row 70000 of 77558\n"
     ]
    }
   ],
   "source": [
    "train_dataset = prepare_dataset(train_files)"
   ]
  },
  {
   "cell_type": "code",
   "execution_count": 16,
   "metadata": {
    "colab": {
     "base_uri": "https://localhost:8080/"
    },
    "id": "UXIO-cKQQUw-",
    "outputId": "c0567cd0-cc5a-4ed2-c5e3-78c4b6cf5ebc"
   },
   "outputs": [
    {
     "name": "stdout",
     "output_type": "stream",
     "text": [
      "Success!\n"
     ]
    }
   ],
   "source": [
    "assert len(train_dataset) == 77558\n",
    "\n",
    "train_dataloader = DataLoader(train_dataset, batch_size=batch_size, shuffle=False)\n",
    "for train_ids_batch, train_span_batch, train_mask_batch in train_dataloader:\n",
    "    sample_input = train_ids_batch\n",
    "    sample_output = train_span_batch\n",
    "    break\n",
    "\n",
    "print('Success!')"
   ]
  },
  {
   "cell_type": "code",
   "execution_count": 17,
   "metadata": {
    "colab": {
     "base_uri": "https://localhost:8080/"
    },
    "id": "ZovPg5wLRshk",
    "outputId": "e69b30f6-e845-4da2-ccfc-cba9fc7b6b4a"
   },
   "outputs": [
    {
     "data": {
      "text/plain": [
       "tensor([[ 23,  24],\n",
       "        [204, 220],\n",
       "        [ 96, 102],\n",
       "        [ 53,  60],\n",
       "        [ 46,  48],\n",
       "        [123, 125],\n",
       "        [ 81,  82],\n",
       "        [231, 232],\n",
       "        [ 35,  43],\n",
       "        [110, 111],\n",
       "        [ 72,  98],\n",
       "        [135, 141],\n",
       "        [ 44,  47],\n",
       "        [ 21,  21],\n",
       "        [ 62,  64],\n",
       "        [ 25,  26]])"
      ]
     },
     "execution_count": 17,
     "metadata": {
      "tags": []
     },
     "output_type": "execute_result"
    }
   ],
   "source": [
    "sample_output"
   ]
  },
  {
   "cell_type": "markdown",
   "metadata": {
    "id": "DDrQP9NyRMrS"
   },
   "source": [
    "## BERT Training \n"
   ]
  },
  {
   "cell_type": "code",
   "execution_count": 18,
   "metadata": {
    "colab": {
     "base_uri": "https://localhost:8080/",
     "height": 220,
     "referenced_widgets": [
      "2618958a7adb495fbb2a01e3586e1b8c",
      "675049ba14e24b5ba0bbd9f11b59700e",
      "50d495394a1c44b399268579f36dbbd9",
      "f3cc143bf9f8411f85562bd4d663e687",
      "9c4f56ec700b4abf9f7e4b8a7ec8f455",
      "1223ca5e3d8346d58d4f2b719bc2b27a",
      "bf82582bafb84c9b82b48df4991e3027",
      "12d2937aa4dc4197b7a82d4feb963524",
      "ca77bb0c4702402093b7e064f48e5f80",
      "4568f5b33a7b478eacf77cb1aed99339",
      "56d2154d271a42d7897274470dbaad16",
      "a89dbc137763414fb5b7b38fd448ffa0",
      "611470d861564952b8ed5f79d3c7222f",
      "b4c28d78419c4aad9ca3bd2ba622612d",
      "c3ee13c3f4ff471890009ca9b10cb0ce",
      "6c7cac03e87d431399aa2c5e66d5fad7"
     ]
    },
    "id": "4yLkGrL_RRp_",
    "outputId": "144fe863-4698-4f39-a8d7-ba2a40a615b3"
   },
   "outputs": [
    {
     "data": {
      "application/vnd.jupyter.widget-view+json": {
       "model_id": "2618958a7adb495fbb2a01e3586e1b8c",
       "version_major": 2,
       "version_minor": 0
      },
      "text/plain": [
       "HBox(children=(FloatProgress(value=0.0, description='Downloading', max=442.0, style=ProgressStyle(description_…"
      ]
     },
     "metadata": {
      "tags": []
     },
     "output_type": "display_data"
    },
    {
     "name": "stdout",
     "output_type": "stream",
     "text": [
      "\n"
     ]
    },
    {
     "data": {
      "application/vnd.jupyter.widget-view+json": {
       "model_id": "ca77bb0c4702402093b7e064f48e5f80",
       "version_major": 2,
       "version_minor": 0
      },
      "text/plain": [
       "HBox(children=(FloatProgress(value=0.0, description='Downloading', max=267967963.0, style=ProgressStyle(descri…"
      ]
     },
     "metadata": {
      "tags": []
     },
     "output_type": "display_data"
    },
    {
     "name": "stdout",
     "output_type": "stream",
     "text": [
      "\n"
     ]
    },
    {
     "name": "stderr",
     "output_type": "stream",
     "text": [
      "Some weights of the model checkpoint at distilbert-base-uncased were not used when initializing DistilBertForQuestionAnswering: ['vocab_transform.weight', 'vocab_transform.bias', 'vocab_layer_norm.weight', 'vocab_layer_norm.bias', 'vocab_projector.weight', 'vocab_projector.bias']\n",
      "- This IS expected if you are initializing DistilBertForQuestionAnswering from the checkpoint of a model trained on another task or with another architecture (e.g. initializing a BertForSequenceClassification model from a BertForPreTraining model).\n",
      "- This IS NOT expected if you are initializing DistilBertForQuestionAnswering from the checkpoint of a model that you expect to be exactly identical (initializing a BertForSequenceClassification model from a BertForSequenceClassification model).\n",
      "Some weights of DistilBertForQuestionAnswering were not initialized from the model checkpoint at distilbert-base-uncased and are newly initialized: ['qa_outputs.weight', 'qa_outputs.bias']\n",
      "You should probably TRAIN this model on a down-stream task to be able to use it for predictions and inference.\n"
     ]
    }
   ],
   "source": [
    "model = DistilBertForQuestionAnswering.from_pretrained('distilbert-base-uncased')"
   ]
  },
  {
   "cell_type": "code",
   "execution_count": 19,
   "metadata": {
    "id": "hvCEVUW7Q63W"
   },
   "outputs": [],
   "source": [
    "loss_function = nn.CrossEntropyLoss()\n",
    "EPOCHS = 1\n",
    "LEARNING_RATE = 0.00003\n",
    "optimizer = optim.Adam(model.parameters(), lr=LEARNING_RATE)\n",
    "model = model.to(device)"
   ]
  },
  {
   "cell_type": "code",
   "execution_count": null,
   "metadata": {
    "id": "biRH8_fOa2c4"
   },
   "outputs": [],
   "source": [
    "#torch.cuda.empty_cache()"
   ]
  },
  {
   "cell_type": "code",
   "execution_count": 20,
   "metadata": {
    "colab": {
     "base_uri": "https://localhost:8080/"
    },
    "id": "jDzJrSVwRMrT",
    "outputId": "dfcf1ca9-b89f-428c-a3c8-bfec1f589b90"
   },
   "outputs": [
    {
     "name": "stdout",
     "output_type": "stream",
     "text": [
      "Processing row 100 of 4848\n",
      "Processing row 200 of 4848\n",
      "Processing row 300 of 4848\n",
      "Processing row 400 of 4848\n",
      "Processing row 500 of 4848\n",
      "Processing row 600 of 4848\n",
      "Processing row 700 of 4848\n",
      "Processing row 800 of 4848\n",
      "Processing row 900 of 4848\n",
      "Processing row 1000 of 4848\n",
      "Processing row 1100 of 4848\n",
      "Processing row 1200 of 4848\n",
      "Processing row 1300 of 4848\n",
      "Processing row 1400 of 4848\n",
      "Processing row 1500 of 4848\n",
      "Processing row 1600 of 4848\n",
      "Processing row 1700 of 4848\n",
      "Processing row 1800 of 4848\n",
      "Processing row 1900 of 4848\n",
      "Processing row 2000 of 4848\n",
      "Processing row 2100 of 4848\n",
      "Processing row 2200 of 4848\n",
      "Processing row 2300 of 4848\n",
      "Processing row 2400 of 4848\n",
      "Processing row 2500 of 4848\n",
      "Processing row 2600 of 4848\n",
      "Processing row 2700 of 4848\n",
      "Processing row 2800 of 4848\n",
      "Processing row 2900 of 4848\n",
      "Processing row 3000 of 4848\n",
      "Processing row 3100 of 4848\n",
      "Processing row 3200 of 4848\n",
      "Processing row 3300 of 4848\n",
      "Processing row 3400 of 4848\n",
      "Processing row 3500 of 4848\n",
      "Processing row 3600 of 4848\n",
      "Processing row 3700 of 4848\n",
      "Processing row 3800 of 4848\n",
      "Processing row 3900 of 4848\n",
      "Processing row 4000 of 4848\n",
      "Processing row 4100 of 4848\n",
      "Processing row 4200 of 4848\n",
      "Processing row 4300 of 4848\n",
      "Processing row 4400 of 4848\n",
      "Processing row 4500 of 4848\n",
      "Processing row 4600 of 4848\n",
      "Processing row 4700 of 4848\n",
      "Processing row 4800 of 4848\n",
      "\n",
      "EPOCH 1: AVG LOSS PER EX: 2.81351\n"
     ]
    }
   ],
   "source": [
    "#your code here\n",
    "\n",
    "import torch\n",
    "count = 0\n",
    "for epoch in range(EPOCHS):\n",
    "    tot_loss = 0\n",
    "    count = 0\n",
    "    for train_ids_batch, train_span_batch, train_mask_batch in train_dataloader:\n",
    "        count +=1\n",
    "        if count % 100 == 0:\n",
    "          print(\"Processing row %s of %s\" % (count, len(train_dataloader)),end=\"\\n\")\n",
    "\n",
    "        model.zero_grad()\n",
    "        targets_start = train_span_batch[:,0]\n",
    "        targets_end = train_span_batch[:,1]\n",
    "        output = model(train_ids_batch.squeeze(1).to(device),train_mask_batch.squeeze(1).to(device))\n",
    "        try:\n",
    "          loss_start = loss_function(output.start_logits.cpu(), targets_start)\n",
    "          loss_end = loss_function(output.end_logits.cpu(), targets_end)\n",
    "\n",
    "          loss = loss_start + loss_end\n",
    "          loss.backward()\n",
    "          optimizer.step()\n",
    "          tot_loss += loss.detach().numpy()\n",
    "        except:\n",
    "          print(\"EXCEPTION\")\n",
    "          print(\"output.start_logits\",output.start_logits)\n",
    "          print(\"output.end_logits\",output.end_logits)\n",
    "    print()\n",
    "    avg_loss = tot_loss/len(train_dataloader)\n",
    "    print(\"EPOCH %u: AVG LOSS PER EX: %.5f\" % (epoch+1,avg_loss))   \n"
   ]
  },
  {
   "cell_type": "code",
   "execution_count": 21,
   "metadata": {
    "colab": {
     "base_uri": "https://localhost:8080/"
    },
    "id": "wIvS-qqzXehw",
    "outputId": "199a4892-3ef9-46a3-df1e-b6aed8decbcb"
   },
   "outputs": [
    {
     "data": {
      "text/plain": [
       "('/content/gdrive/MyDrive/Colab Notebooks/563_Lab_3/finetuned_1new/tokenizer_config.json',\n",
       " '/content/gdrive/MyDrive/Colab Notebooks/563_Lab_3/finetuned_1new/special_tokens_map.json',\n",
       " '/content/gdrive/MyDrive/Colab Notebooks/563_Lab_3/finetuned_1new/vocab.txt',\n",
       " '/content/gdrive/MyDrive/Colab Notebooks/563_Lab_3/finetuned_1new/added_tokens.json')"
      ]
     },
     "execution_count": 21,
     "metadata": {
      "tags": []
     },
     "output_type": "execute_result"
    }
   ],
   "source": [
    "model.save_pretrained(\"/content/gdrive/MyDrive/Colab Notebooks/563_Lab_3/finetuned_1new\")\n",
    "tokenizer.save_pretrained(\"/content/gdrive/MyDrive/Colab Notebooks/563_Lab_3/finetuned_1new\")"
   ]
  },
  {
   "cell_type": "code",
   "execution_count": 22,
   "metadata": {
    "id": "U3FwwzTe0z6E"
   },
   "outputs": [],
   "source": [
    "#### Only Run to load the model #####\n",
    "\n",
    "model = DistilBertForQuestionAnswering.from_pretrained('/content/gdrive/MyDrive/Colab Notebooks/563_Lab_3/finetuned_1new')\n",
    "#model.load_state_dict(torch.load('/content/gdrive/MyDrive/Colab Notebooks/data/ckpt/563lab3_1.pt')['state_dict'])"
   ]
  },
  {
   "cell_type": "markdown",
   "metadata": {
    "id": "Vbbr2MWdRMrW"
   },
   "source": [
    "### Accuracy on Dev"
   ]
  },
  {
   "cell_type": "code",
   "execution_count": 23,
   "metadata": {
    "id": "iFleiJx7RMrW"
   },
   "outputs": [],
   "source": [
    "dev_dataset = prepare_dataset(dev_files)\n",
    "dev_dataloader = DataLoader(dev_dataset, batch_size=batch_size, shuffle=False)"
   ]
  },
  {
   "cell_type": "code",
   "execution_count": 24,
   "metadata": {
    "colab": {
     "base_uri": "https://localhost:8080/"
    },
    "id": "s9KlF4Lu1ayJ",
    "outputId": "9b0b00d3-9c69-4fb0-c2ed-3e598a538160"
   },
   "outputs": [
    {
     "name": "stdout",
     "output_type": "stream",
     "text": [
      "Processing row 100 of 366\n",
      "Processing row 200 of 366\n",
      "Processing row 300 of 366\n"
     ]
    }
   ],
   "source": [
    "all_dev_pred_start = []\n",
    "all_dev_start = []\n",
    "count = 0\n",
    "all_dev_pred_end = []\n",
    "all_dev_end = []\n",
    "model.eval()\n",
    "model = model.to(device)\n",
    "\n",
    "with torch.no_grad():\n",
    "  for dev_ids_batch, dev_span_batch, dev_mask_batch in dev_dataloader:\n",
    "    count +=1\n",
    "    if count % 100 == 0:\n",
    "      print(\"Processing row %s of %s\" % (count, len(dev_dataloader)),end=\"\\n\")\n",
    "\n",
    "    dev_spans = model(dev_ids_batch.squeeze(1).to(device),dev_mask_batch.squeeze(1).to(device))\n",
    "\n",
    "    pred_start = tuple(torch.argmax(dev_spans[0].cpu(),dim=1).numpy().flatten())\n",
    "    pred_end = tuple(torch.argmax(dev_spans[1].cpu(),dim=1).numpy().flatten())\n",
    "\n",
    "    all_dev_pred_start.extend(pred_start)\n",
    "    all_dev_pred_end.extend(pred_end)\n",
    "    all_dev_start.extend(dev_span_batch[:,0].numpy().flatten())\n",
    "    all_dev_end.extend(dev_span_batch[:,1].numpy().flatten())\n",
    "\n",
    "    if count==1:\n",
    "      pass\n",
    "      \n"
   ]
  },
  {
   "cell_type": "code",
   "execution_count": 25,
   "metadata": {
    "colab": {
     "base_uri": "https://localhost:8080/"
    },
    "id": "OsNLXkeIQSpP",
    "outputId": "0e48ae61-0020-4904-a7fe-4dadc4af2898"
   },
   "outputs": [
    {
     "name": "stdout",
     "output_type": "stream",
     "text": [
      "5854\n",
      "5854\n",
      "5854\n",
      "5854\n"
     ]
    }
   ],
   "source": [
    "print(len(all_dev_pred_start))\n",
    "print(len(all_dev_pred_end))\n",
    "print(len(all_dev_start))\n",
    "print(len(all_dev_end))"
   ]
  },
  {
   "cell_type": "code",
   "execution_count": 26,
   "metadata": {
    "colab": {
     "base_uri": "https://localhost:8080/"
    },
    "id": "kbvyx56PCAxJ",
    "outputId": "2bce0a17-c022-45dc-d19f-97c3176ef3c6"
   },
   "outputs": [
    {
     "name": "stdout",
     "output_type": "stream",
     "text": [
      "0.6194055346771439\n",
      "0.6569866757772463\n"
     ]
    }
   ],
   "source": [
    "from sklearn.metrics import accuracy_score\n",
    "\n",
    "start_accuracy = accuracy_score(all_dev_start, all_dev_pred_start)\n",
    "end_accuracy = accuracy_score(all_dev_end, all_dev_pred_end)\n",
    "\n",
    "print(start_accuracy)\n",
    "print(end_accuracy)"
   ]
  },
  {
   "cell_type": "code",
   "execution_count": 49,
   "metadata": {
    "id": "9OrHpAxrRMro"
   },
   "outputs": [],
   "source": [
    "def select_best_answer_span(start_probs, end_probs, distance):\n",
    "    ''' returns a list of spans corresponding to the highest probability QA solution which satisfy the restriction that the end index must\n",
    "    be within distance after the start index'''\n",
    "    output_spans = []\n",
    "    for start,end in zip(start_probs,end_probs):\n",
    "        output_spans.append(select_best(start,end,distance))\n",
    "    return output_spans\n",
    "\n",
    "def select_best(start_probs, end_probs, distance):\n",
    "\n",
    "    start_ind_sorted = np.flip(np.argsort(start_probs))\n",
    "    end_ind_sorted = np.flip(np.argsort(end_probs))\n",
    "    start = 0\n",
    "    end = 0\n",
    "    max_prob = 0\n",
    "\n",
    "    for i in range(len(start_ind_sorted)-1):\n",
    "        for j in range(len(end_ind_sorted)-1):\n",
    "            if start_ind_sorted[i] <= end_ind_sorted[j] and end_ind_sorted[j] - start_ind_sorted[i] <=distance:\n",
    "                temp_prob = start_probs[start_ind_sorted[i]] + end_probs[end_ind_sorted[j]]\n",
    "                if temp_prob > max_prob:\n",
    "                    max_prob = temp_prob\n",
    "                    start = start_ind_sorted[i]\n",
    "                    end = end_ind_sorted[j]\n",
    "\n",
    "    return (start,end,)\n"
   ]
  },
  {
   "cell_type": "code",
   "execution_count": 37,
   "metadata": {
    "colab": {
     "base_uri": "https://localhost:8080/"
    },
    "id": "ogXXQd6rRMrq",
    "outputId": "a9d21108-74bd-4782-80d5-be212bc01f3d"
   },
   "outputs": [
    {
     "name": "stdout",
     "output_type": "stream",
     "text": [
      "Success!\n"
     ]
    }
   ],
   "source": [
    "test_starts = np.array([[0.1,0.5,0.2,0.1,0.1], [0.3,0.2,0.2,0.1,0.1]])\n",
    "test_ends = np.array([[0.4,0.1,0.3,0.1,0.1], [0.1,0.1,0.1,0.1,0.6]])\n",
    "assert select_best_answer_span_slow(test_starts,test_ends,2) == [(1,2),(2,4)]\n",
    "print(\"Success!\")"
   ]
  },
  {
   "cell_type": "code",
   "execution_count": 50,
   "metadata": {
    "colab": {
     "base_uri": "https://localhost:8080/"
    },
    "id": "y2xLhO-gFLfi",
    "outputId": "de22c8fe-cf66-4102-abf5-065a5adf5b92"
   },
   "outputs": [
    {
     "name": "stdout",
     "output_type": "stream",
     "text": [
      "Success!\n"
     ]
    }
   ],
   "source": [
    "test_starts = np.array([[0.1,0.5,0.2,0.1,0.1], [0.3,0.2,0.2,0.1,0.1]])\n",
    "test_ends = np.array([[0.4,0.1,0.3,0.1,0.1], [0.1,0.1,0.1,0.1,0.6]])\n",
    "assert select_best_answer_span(test_starts,test_ends,2) == [(1,2),(2,4)]\n",
    "print(\"Success!\")"
   ]
  },
  {
   "cell_type": "code",
   "execution_count": null,
   "metadata": {
    "id": "rVA5n5aVm-gd"
   },
   "outputs": [],
   "source": []
  },
  {
   "cell_type": "markdown",
   "metadata": {
    "id": "YKVDrLjlRMrj"
   },
   "source": [
    "## Predict on Test set "
   ]
  },
  {
   "cell_type": "code",
   "execution_count": 28,
   "metadata": {
    "id": "B_R0KdLlm-gd"
   },
   "outputs": [],
   "source": [
    "test_dataset = prepare_dataset(test_files)\n",
    "test_dataloader = DataLoader(test_dataset, batch_size=batch_size, shuffle=False)\n",
    "distance = 20"
   ]
  },
  {
   "cell_type": "code",
   "execution_count": 52,
   "metadata": {
    "colab": {
     "base_uri": "https://localhost:8080/"
    },
    "id": "EQ7OScqnHFwl",
    "outputId": "9de17d4c-9da4-4770-978b-646b7d365e3b"
   },
   "outputs": [
    {
     "name": "stdout",
     "output_type": "stream",
     "text": [
      "Processing row 100 of 500\n",
      "Processing row 200 of 500\n",
      "Processing row 300 of 500\n",
      "Processing row 400 of 500\n",
      "Processing row 500 of 500\n"
     ]
    }
   ],
   "source": [
    "count = 0\n",
    "model.eval()\n",
    "model = model.to(device)\n",
    "pred_answers = []\n",
    "start_spans = []\n",
    "id = []\n",
    "with torch.no_grad():\n",
    "  for test_ids_batch, test_span_batch, test_mask_batch in test_dataloader:\n",
    "    count +=1\n",
    "    if count % 100 == 0:\n",
    "      print(\"Processing row %s of %s\" % (count, len(test_dataloader)),end=\"\\n\")\n",
    "\n",
    "    test_spans = model(test_ids_batch.squeeze(1).to(device),test_mask_batch.squeeze(1).to(device))\n",
    "\n",
    "    pred_start_probs = test_spans.start_logits.cpu().detach().numpy()\n",
    "    pred_end_probs = test_spans.end_logits.cpu().detach().numpy()\n",
    "    pred_spans = select_best_answer_span_slow(pred_start_probs, pred_end_probs, distance)\n",
    "\n",
    "    for ids, span in zip(test_ids_batch,pred_spans):\n",
    "      ans = tokenizer.decode(ids[0][span[0]:span[1]+1],clean_up_tokenization_spaces=True)\n",
    "      start_spans.append(span[0])\n",
    "      pred_answers.append(ans)\n",
    "      id.append(str(count))\n",
    "\n",
    "    if count==1:\n",
    "      pass\n",
    "      \n"
   ]
  },
  {
   "cell_type": "code",
   "execution_count": 30,
   "metadata": {
    "colab": {
     "base_uri": "https://localhost:8080/"
    },
    "id": "8V6WznIRa-Vh",
    "outputId": "e7549f68-8fa8-4c87-a13d-4c19b16ba44a"
   },
   "outputs": [
    {
     "data": {
      "text/plain": [
       "8000"
      ]
     },
     "execution_count": 30,
     "metadata": {
      "tags": []
     },
     "output_type": "execute_result"
    }
   ],
   "source": [
    "len(pred_answers)"
   ]
  },
  {
   "cell_type": "code",
   "execution_count": 31,
   "metadata": {
    "colab": {
     "base_uri": "https://localhost:8080/"
    },
    "id": "Lz4pnpA1ldFl",
    "outputId": "b7887537-2ae0-4624-f560-e7959fd91c04"
   },
   "outputs": [
    {
     "data": {
      "text/plain": [
       "['1964',\n",
       " 'our own consciousness',\n",
       " 'mars',\n",
       " \"mayor's office for policing and crime\",\n",
       " 'jorge carcavallo',\n",
       " 'steve jobs',\n",
       " 'encased inside a vertical cylinder',\n",
       " '15 – 23 december',\n",
       " 'orlando international airport',\n",
       " '400, 000']"
      ]
     },
     "execution_count": 31,
     "metadata": {
      "tags": []
     },
     "output_type": "execute_result"
    }
   ],
   "source": [
    "pred_answers[:10]"
   ]
  },
  {
   "cell_type": "code",
   "execution_count": 33,
   "metadata": {
    "id": "Yrf7F_xbr5vy"
   },
   "outputs": [],
   "source": [
    "pred_answers_new = []\n",
    "for ans in pred_answers:\n",
    "  if \" – \" in ans:\n",
    "    new = ans.replace(\" – \",\"–\")\n",
    "    pred_answers_new.append(new.lower())\n",
    "  elif \"'s\" in ans:\n",
    "    new = ans.replace(\"'s\",\" 's\")\n",
    "    pred_answers_new.append(new.lower())\n",
    "  elif \". \" in ans:\n",
    "    new = ans.replace(\". \",\".\")\n",
    "    pred_answers_new.append(new.lower())\n",
    "  elif \", \" in ans:\n",
    "    new = ans.replace(\", \",\",\")\n",
    "    pred_answers_new.append(new.lower())\n",
    "  else:\n",
    "    pred_answers_new.append(ans.lower())"
   ]
  },
  {
   "cell_type": "code",
   "execution_count": 34,
   "metadata": {
    "colab": {
     "base_uri": "https://localhost:8080/"
    },
    "id": "V3-11S5JsW68",
    "outputId": "b72b9c74-2fb0-4223-fe2a-daca386a9b91"
   },
   "outputs": [
    {
     "data": {
      "text/plain": [
       "8000"
      ]
     },
     "execution_count": 34,
     "metadata": {
      "tags": []
     },
     "output_type": "execute_result"
    }
   ],
   "source": [
    "len(pred_answers_new)"
   ]
  },
  {
   "cell_type": "code",
   "execution_count": 35,
   "metadata": {
    "id": "BGAhsW9gk-lx"
   },
   "outputs": [],
   "source": [
    "##### Please note, I had to remove extra columns in the csv when openning in google sheets\n",
    "##### and added column names : Id and Predicted\n",
    "\n",
    "from pandas import DataFrame\n",
    "cols = ['Id','Predicted']\n",
    "df = DataFrame(pred_answers_new)\n",
    "df.to_csv(\"/content/gdrive/MyDrive/Colab Notebooks/563_Lab_3/out.csv\")\n",
    "\n",
    "##### Please note, I had to remove extra columns in the csv when openning in google sheets\n",
    "##### and added column names : Id and Predicted"
   ]
  },
  {
   "cell_type": "code",
   "execution_count": 44,
   "metadata": {
    "colab": {
     "base_uri": "https://localhost:8080/"
    },
    "id": "5sc-_U3Jgxpy",
    "outputId": "3c4b6c06-7642-4403-ef5d-a64edc64622b"
   },
   "outputs": [
    {
     "data": {
      "text/plain": [
       "['1964',\n",
       " 'our own consciousness',\n",
       " 'mars',\n",
       " \"mayor's office for policing and crime\",\n",
       " 'jorge carcavallo',\n",
       " 'steve jobs',\n",
       " 'encased inside a vertical cylinder',\n",
       " '15 – 23 december',\n",
       " 'orlando international airport',\n",
       " '400, 000']"
      ]
     },
     "execution_count": 44,
     "metadata": {
      "tags": []
     },
     "output_type": "execute_result"
    }
   ],
   "source": [
    "pred_answers[:10]"
   ]
  }
 ],
 "metadata": {
  "accelerator": "GPU",
  "colab": {
   "collapsed_sections": [],
   "name": "Lab3.ipynb",
   "provenance": [],
   "toc_visible": true
  },
  "kernelspec": {
   "display_name": "Python 3",
   "language": "python",
   "name": "python3"
  },
  "language_info": {
   "codemirror_mode": {
    "name": "ipython",
    "version": 3
   },
   "file_extension": ".py",
   "mimetype": "text/x-python",
   "name": "python",
   "nbconvert_exporter": "python",
   "pygments_lexer": "ipython3",
   "version": "3.7.6"
  },
  "widgets": {
   "application/vnd.jupyter.widget-state+json": {
    "00fbed31abf342bca71412e28162223f": {
     "model_module": "@jupyter-widgets/base",
     "model_name": "LayoutModel",
     "state": {
      "_model_module": "@jupyter-widgets/base",
      "_model_module_version": "1.2.0",
      "_model_name": "LayoutModel",
      "_view_count": null,
      "_view_module": "@jupyter-widgets/base",
      "_view_module_version": "1.2.0",
      "_view_name": "LayoutView",
      "align_content": null,
      "align_items": null,
      "align_self": null,
      "border": null,
      "bottom": null,
      "display": null,
      "flex": null,
      "flex_flow": null,
      "grid_area": null,
      "grid_auto_columns": null,
      "grid_auto_flow": null,
      "grid_auto_rows": null,
      "grid_column": null,
      "grid_gap": null,
      "grid_row": null,
      "grid_template_areas": null,
      "grid_template_columns": null,
      "grid_template_rows": null,
      "height": null,
      "justify_content": null,
      "justify_items": null,
      "left": null,
      "margin": null,
      "max_height": null,
      "max_width": null,
      "min_height": null,
      "min_width": null,
      "object_fit": null,
      "object_position": null,
      "order": null,
      "overflow": null,
      "overflow_x": null,
      "overflow_y": null,
      "padding": null,
      "right": null,
      "top": null,
      "visibility": null,
      "width": null
     }
    },
    "05bd6cfac9a04fe0bcb265436414caad": {
     "model_module": "@jupyter-widgets/base",
     "model_name": "LayoutModel",
     "state": {
      "_model_module": "@jupyter-widgets/base",
      "_model_module_version": "1.2.0",
      "_model_name": "LayoutModel",
      "_view_count": null,
      "_view_module": "@jupyter-widgets/base",
      "_view_module_version": "1.2.0",
      "_view_name": "LayoutView",
      "align_content": null,
      "align_items": null,
      "align_self": null,
      "border": null,
      "bottom": null,
      "display": null,
      "flex": null,
      "flex_flow": null,
      "grid_area": null,
      "grid_auto_columns": null,
      "grid_auto_flow": null,
      "grid_auto_rows": null,
      "grid_column": null,
      "grid_gap": null,
      "grid_row": null,
      "grid_template_areas": null,
      "grid_template_columns": null,
      "grid_template_rows": null,
      "height": null,
      "justify_content": null,
      "justify_items": null,
      "left": null,
      "margin": null,
      "max_height": null,
      "max_width": null,
      "min_height": null,
      "min_width": null,
      "object_fit": null,
      "object_position": null,
      "order": null,
      "overflow": null,
      "overflow_x": null,
      "overflow_y": null,
      "padding": null,
      "right": null,
      "top": null,
      "visibility": null,
      "width": null
     }
    },
    "09595a8d34ef4ac8b3f1f8c0404fb51a": {
     "model_module": "@jupyter-widgets/base",
     "model_name": "LayoutModel",
     "state": {
      "_model_module": "@jupyter-widgets/base",
      "_model_module_version": "1.2.0",
      "_model_name": "LayoutModel",
      "_view_count": null,
      "_view_module": "@jupyter-widgets/base",
      "_view_module_version": "1.2.0",
      "_view_name": "LayoutView",
      "align_content": null,
      "align_items": null,
      "align_self": null,
      "border": null,
      "bottom": null,
      "display": null,
      "flex": null,
      "flex_flow": null,
      "grid_area": null,
      "grid_auto_columns": null,
      "grid_auto_flow": null,
      "grid_auto_rows": null,
      "grid_column": null,
      "grid_gap": null,
      "grid_row": null,
      "grid_template_areas": null,
      "grid_template_columns": null,
      "grid_template_rows": null,
      "height": null,
      "justify_content": null,
      "justify_items": null,
      "left": null,
      "margin": null,
      "max_height": null,
      "max_width": null,
      "min_height": null,
      "min_width": null,
      "object_fit": null,
      "object_position": null,
      "order": null,
      "overflow": null,
      "overflow_x": null,
      "overflow_y": null,
      "padding": null,
      "right": null,
      "top": null,
      "visibility": null,
      "width": null
     }
    },
    "1223ca5e3d8346d58d4f2b719bc2b27a": {
     "model_module": "@jupyter-widgets/base",
     "model_name": "LayoutModel",
     "state": {
      "_model_module": "@jupyter-widgets/base",
      "_model_module_version": "1.2.0",
      "_model_name": "LayoutModel",
      "_view_count": null,
      "_view_module": "@jupyter-widgets/base",
      "_view_module_version": "1.2.0",
      "_view_name": "LayoutView",
      "align_content": null,
      "align_items": null,
      "align_self": null,
      "border": null,
      "bottom": null,
      "display": null,
      "flex": null,
      "flex_flow": null,
      "grid_area": null,
      "grid_auto_columns": null,
      "grid_auto_flow": null,
      "grid_auto_rows": null,
      "grid_column": null,
      "grid_gap": null,
      "grid_row": null,
      "grid_template_areas": null,
      "grid_template_columns": null,
      "grid_template_rows": null,
      "height": null,
      "justify_content": null,
      "justify_items": null,
      "left": null,
      "margin": null,
      "max_height": null,
      "max_width": null,
      "min_height": null,
      "min_width": null,
      "object_fit": null,
      "object_position": null,
      "order": null,
      "overflow": null,
      "overflow_x": null,
      "overflow_y": null,
      "padding": null,
      "right": null,
      "top": null,
      "visibility": null,
      "width": null
     }
    },
    "12d2937aa4dc4197b7a82d4feb963524": {
     "model_module": "@jupyter-widgets/base",
     "model_name": "LayoutModel",
     "state": {
      "_model_module": "@jupyter-widgets/base",
      "_model_module_version": "1.2.0",
      "_model_name": "LayoutModel",
      "_view_count": null,
      "_view_module": "@jupyter-widgets/base",
      "_view_module_version": "1.2.0",
      "_view_name": "LayoutView",
      "align_content": null,
      "align_items": null,
      "align_self": null,
      "border": null,
      "bottom": null,
      "display": null,
      "flex": null,
      "flex_flow": null,
      "grid_area": null,
      "grid_auto_columns": null,
      "grid_auto_flow": null,
      "grid_auto_rows": null,
      "grid_column": null,
      "grid_gap": null,
      "grid_row": null,
      "grid_template_areas": null,
      "grid_template_columns": null,
      "grid_template_rows": null,
      "height": null,
      "justify_content": null,
      "justify_items": null,
      "left": null,
      "margin": null,
      "max_height": null,
      "max_width": null,
      "min_height": null,
      "min_width": null,
      "object_fit": null,
      "object_position": null,
      "order": null,
      "overflow": null,
      "overflow_x": null,
      "overflow_y": null,
      "padding": null,
      "right": null,
      "top": null,
      "visibility": null,
      "width": null
     }
    },
    "1bcf3c597aeb421d88bcd69f2e33c368": {
     "model_module": "@jupyter-widgets/base",
     "model_name": "LayoutModel",
     "state": {
      "_model_module": "@jupyter-widgets/base",
      "_model_module_version": "1.2.0",
      "_model_name": "LayoutModel",
      "_view_count": null,
      "_view_module": "@jupyter-widgets/base",
      "_view_module_version": "1.2.0",
      "_view_name": "LayoutView",
      "align_content": null,
      "align_items": null,
      "align_self": null,
      "border": null,
      "bottom": null,
      "display": null,
      "flex": null,
      "flex_flow": null,
      "grid_area": null,
      "grid_auto_columns": null,
      "grid_auto_flow": null,
      "grid_auto_rows": null,
      "grid_column": null,
      "grid_gap": null,
      "grid_row": null,
      "grid_template_areas": null,
      "grid_template_columns": null,
      "grid_template_rows": null,
      "height": null,
      "justify_content": null,
      "justify_items": null,
      "left": null,
      "margin": null,
      "max_height": null,
      "max_width": null,
      "min_height": null,
      "min_width": null,
      "object_fit": null,
      "object_position": null,
      "order": null,
      "overflow": null,
      "overflow_x": null,
      "overflow_y": null,
      "padding": null,
      "right": null,
      "top": null,
      "visibility": null,
      "width": null
     }
    },
    "2618958a7adb495fbb2a01e3586e1b8c": {
     "model_module": "@jupyter-widgets/controls",
     "model_name": "HBoxModel",
     "state": {
      "_dom_classes": [],
      "_model_module": "@jupyter-widgets/controls",
      "_model_module_version": "1.5.0",
      "_model_name": "HBoxModel",
      "_view_count": null,
      "_view_module": "@jupyter-widgets/controls",
      "_view_module_version": "1.5.0",
      "_view_name": "HBoxView",
      "box_style": "",
      "children": [
       "IPY_MODEL_50d495394a1c44b399268579f36dbbd9",
       "IPY_MODEL_f3cc143bf9f8411f85562bd4d663e687"
      ],
      "layout": "IPY_MODEL_675049ba14e24b5ba0bbd9f11b59700e"
     }
    },
    "2f4392115efe4c73a6ec9d695e2bfab9": {
     "model_module": "@jupyter-widgets/controls",
     "model_name": "ProgressStyleModel",
     "state": {
      "_model_module": "@jupyter-widgets/controls",
      "_model_module_version": "1.5.0",
      "_model_name": "ProgressStyleModel",
      "_view_count": null,
      "_view_module": "@jupyter-widgets/base",
      "_view_module_version": "1.2.0",
      "_view_name": "StyleView",
      "bar_color": null,
      "description_width": "initial"
     }
    },
    "307521df260b40fc9bf7b33b10ceafa8": {
     "model_module": "@jupyter-widgets/base",
     "model_name": "LayoutModel",
     "state": {
      "_model_module": "@jupyter-widgets/base",
      "_model_module_version": "1.2.0",
      "_model_name": "LayoutModel",
      "_view_count": null,
      "_view_module": "@jupyter-widgets/base",
      "_view_module_version": "1.2.0",
      "_view_name": "LayoutView",
      "align_content": null,
      "align_items": null,
      "align_self": null,
      "border": null,
      "bottom": null,
      "display": null,
      "flex": null,
      "flex_flow": null,
      "grid_area": null,
      "grid_auto_columns": null,
      "grid_auto_flow": null,
      "grid_auto_rows": null,
      "grid_column": null,
      "grid_gap": null,
      "grid_row": null,
      "grid_template_areas": null,
      "grid_template_columns": null,
      "grid_template_rows": null,
      "height": null,
      "justify_content": null,
      "justify_items": null,
      "left": null,
      "margin": null,
      "max_height": null,
      "max_width": null,
      "min_height": null,
      "min_width": null,
      "object_fit": null,
      "object_position": null,
      "order": null,
      "overflow": null,
      "overflow_x": null,
      "overflow_y": null,
      "padding": null,
      "right": null,
      "top": null,
      "visibility": null,
      "width": null
     }
    },
    "39b8fc67b05f4920b47c10f7f8423961": {
     "model_module": "@jupyter-widgets/controls",
     "model_name": "HBoxModel",
     "state": {
      "_dom_classes": [],
      "_model_module": "@jupyter-widgets/controls",
      "_model_module_version": "1.5.0",
      "_model_name": "HBoxModel",
      "_view_count": null,
      "_view_module": "@jupyter-widgets/controls",
      "_view_module_version": "1.5.0",
      "_view_name": "HBoxView",
      "box_style": "",
      "children": [
       "IPY_MODEL_edcd45f568984cbfaad12b85dcbc8ad5",
       "IPY_MODEL_63db6f9bcf66455bba23eea9f868448b"
      ],
      "layout": "IPY_MODEL_05bd6cfac9a04fe0bcb265436414caad"
     }
    },
    "4568f5b33a7b478eacf77cb1aed99339": {
     "model_module": "@jupyter-widgets/base",
     "model_name": "LayoutModel",
     "state": {
      "_model_module": "@jupyter-widgets/base",
      "_model_module_version": "1.2.0",
      "_model_name": "LayoutModel",
      "_view_count": null,
      "_view_module": "@jupyter-widgets/base",
      "_view_module_version": "1.2.0",
      "_view_name": "LayoutView",
      "align_content": null,
      "align_items": null,
      "align_self": null,
      "border": null,
      "bottom": null,
      "display": null,
      "flex": null,
      "flex_flow": null,
      "grid_area": null,
      "grid_auto_columns": null,
      "grid_auto_flow": null,
      "grid_auto_rows": null,
      "grid_column": null,
      "grid_gap": null,
      "grid_row": null,
      "grid_template_areas": null,
      "grid_template_columns": null,
      "grid_template_rows": null,
      "height": null,
      "justify_content": null,
      "justify_items": null,
      "left": null,
      "margin": null,
      "max_height": null,
      "max_width": null,
      "min_height": null,
      "min_width": null,
      "object_fit": null,
      "object_position": null,
      "order": null,
      "overflow": null,
      "overflow_x": null,
      "overflow_y": null,
      "padding": null,
      "right": null,
      "top": null,
      "visibility": null,
      "width": null
     }
    },
    "50d495394a1c44b399268579f36dbbd9": {
     "model_module": "@jupyter-widgets/controls",
     "model_name": "FloatProgressModel",
     "state": {
      "_dom_classes": [],
      "_model_module": "@jupyter-widgets/controls",
      "_model_module_version": "1.5.0",
      "_model_name": "FloatProgressModel",
      "_view_count": null,
      "_view_module": "@jupyter-widgets/controls",
      "_view_module_version": "1.5.0",
      "_view_name": "ProgressView",
      "bar_style": "success",
      "description": "Downloading: 100%",
      "description_tooltip": null,
      "layout": "IPY_MODEL_1223ca5e3d8346d58d4f2b719bc2b27a",
      "max": 442,
      "min": 0,
      "orientation": "horizontal",
      "style": "IPY_MODEL_9c4f56ec700b4abf9f7e4b8a7ec8f455",
      "value": 442
     }
    },
    "5345fa611826412eb46c2fed23592182": {
     "model_module": "@jupyter-widgets/controls",
     "model_name": "HTMLModel",
     "state": {
      "_dom_classes": [],
      "_model_module": "@jupyter-widgets/controls",
      "_model_module_version": "1.5.0",
      "_model_name": "HTMLModel",
      "_view_count": null,
      "_view_module": "@jupyter-widgets/controls",
      "_view_module_version": "1.5.0",
      "_view_name": "HTMLView",
      "description": "",
      "description_tooltip": null,
      "layout": "IPY_MODEL_9c132249ca8f4c6ea4de83ead90c5510",
      "placeholder": "​",
      "style": "IPY_MODEL_bac45c29b5af4061b9ebaceffa03e227",
      "value": " 232k/232k [01:42&lt;00:00, 2.26kB/s]"
     }
    },
    "56d2154d271a42d7897274470dbaad16": {
     "model_module": "@jupyter-widgets/controls",
     "model_name": "FloatProgressModel",
     "state": {
      "_dom_classes": [],
      "_model_module": "@jupyter-widgets/controls",
      "_model_module_version": "1.5.0",
      "_model_name": "FloatProgressModel",
      "_view_count": null,
      "_view_module": "@jupyter-widgets/controls",
      "_view_module_version": "1.5.0",
      "_view_name": "ProgressView",
      "bar_style": "success",
      "description": "Downloading: 100%",
      "description_tooltip": null,
      "layout": "IPY_MODEL_b4c28d78419c4aad9ca3bd2ba622612d",
      "max": 267967963,
      "min": 0,
      "orientation": "horizontal",
      "style": "IPY_MODEL_611470d861564952b8ed5f79d3c7222f",
      "value": 267967963
     }
    },
    "5dafd719ba334a92b02ad11c08f21041": {
     "model_module": "@jupyter-widgets/controls",
     "model_name": "ProgressStyleModel",
     "state": {
      "_model_module": "@jupyter-widgets/controls",
      "_model_module_version": "1.5.0",
      "_model_name": "ProgressStyleModel",
      "_view_count": null,
      "_view_module": "@jupyter-widgets/base",
      "_view_module_version": "1.2.0",
      "_view_name": "StyleView",
      "bar_color": null,
      "description_width": "initial"
     }
    },
    "611470d861564952b8ed5f79d3c7222f": {
     "model_module": "@jupyter-widgets/controls",
     "model_name": "ProgressStyleModel",
     "state": {
      "_model_module": "@jupyter-widgets/controls",
      "_model_module_version": "1.5.0",
      "_model_name": "ProgressStyleModel",
      "_view_count": null,
      "_view_module": "@jupyter-widgets/base",
      "_view_module_version": "1.2.0",
      "_view_name": "StyleView",
      "bar_color": null,
      "description_width": "initial"
     }
    },
    "63db6f9bcf66455bba23eea9f868448b": {
     "model_module": "@jupyter-widgets/controls",
     "model_name": "HTMLModel",
     "state": {
      "_dom_classes": [],
      "_model_module": "@jupyter-widgets/controls",
      "_model_module_version": "1.5.0",
      "_model_name": "HTMLModel",
      "_view_count": null,
      "_view_module": "@jupyter-widgets/controls",
      "_view_module_version": "1.5.0",
      "_view_name": "HTMLView",
      "description": "",
      "description_tooltip": null,
      "layout": "IPY_MODEL_307521df260b40fc9bf7b33b10ceafa8",
      "placeholder": "​",
      "style": "IPY_MODEL_fa409aefb0024c559b5b5bd9b442e6e5",
      "value": " 28.0/28.0 [00:00&lt;00:00, 45.8B/s]"
     }
    },
    "675049ba14e24b5ba0bbd9f11b59700e": {
     "model_module": "@jupyter-widgets/base",
     "model_name": "LayoutModel",
     "state": {
      "_model_module": "@jupyter-widgets/base",
      "_model_module_version": "1.2.0",
      "_model_name": "LayoutModel",
      "_view_count": null,
      "_view_module": "@jupyter-widgets/base",
      "_view_module_version": "1.2.0",
      "_view_name": "LayoutView",
      "align_content": null,
      "align_items": null,
      "align_self": null,
      "border": null,
      "bottom": null,
      "display": null,
      "flex": null,
      "flex_flow": null,
      "grid_area": null,
      "grid_auto_columns": null,
      "grid_auto_flow": null,
      "grid_auto_rows": null,
      "grid_column": null,
      "grid_gap": null,
      "grid_row": null,
      "grid_template_areas": null,
      "grid_template_columns": null,
      "grid_template_rows": null,
      "height": null,
      "justify_content": null,
      "justify_items": null,
      "left": null,
      "margin": null,
      "max_height": null,
      "max_width": null,
      "min_height": null,
      "min_width": null,
      "object_fit": null,
      "object_position": null,
      "order": null,
      "overflow": null,
      "overflow_x": null,
      "overflow_y": null,
      "padding": null,
      "right": null,
      "top": null,
      "visibility": null,
      "width": null
     }
    },
    "69b0ab7338af470d9a51e58d4190477a": {
     "model_module": "@jupyter-widgets/base",
     "model_name": "LayoutModel",
     "state": {
      "_model_module": "@jupyter-widgets/base",
      "_model_module_version": "1.2.0",
      "_model_name": "LayoutModel",
      "_view_count": null,
      "_view_module": "@jupyter-widgets/base",
      "_view_module_version": "1.2.0",
      "_view_name": "LayoutView",
      "align_content": null,
      "align_items": null,
      "align_self": null,
      "border": null,
      "bottom": null,
      "display": null,
      "flex": null,
      "flex_flow": null,
      "grid_area": null,
      "grid_auto_columns": null,
      "grid_auto_flow": null,
      "grid_auto_rows": null,
      "grid_column": null,
      "grid_gap": null,
      "grid_row": null,
      "grid_template_areas": null,
      "grid_template_columns": null,
      "grid_template_rows": null,
      "height": null,
      "justify_content": null,
      "justify_items": null,
      "left": null,
      "margin": null,
      "max_height": null,
      "max_width": null,
      "min_height": null,
      "min_width": null,
      "object_fit": null,
      "object_position": null,
      "order": null,
      "overflow": null,
      "overflow_x": null,
      "overflow_y": null,
      "padding": null,
      "right": null,
      "top": null,
      "visibility": null,
      "width": null
     }
    },
    "6c44d628fdc341b4816f97a1dffaefca": {
     "model_module": "@jupyter-widgets/base",
     "model_name": "LayoutModel",
     "state": {
      "_model_module": "@jupyter-widgets/base",
      "_model_module_version": "1.2.0",
      "_model_name": "LayoutModel",
      "_view_count": null,
      "_view_module": "@jupyter-widgets/base",
      "_view_module_version": "1.2.0",
      "_view_name": "LayoutView",
      "align_content": null,
      "align_items": null,
      "align_self": null,
      "border": null,
      "bottom": null,
      "display": null,
      "flex": null,
      "flex_flow": null,
      "grid_area": null,
      "grid_auto_columns": null,
      "grid_auto_flow": null,
      "grid_auto_rows": null,
      "grid_column": null,
      "grid_gap": null,
      "grid_row": null,
      "grid_template_areas": null,
      "grid_template_columns": null,
      "grid_template_rows": null,
      "height": null,
      "justify_content": null,
      "justify_items": null,
      "left": null,
      "margin": null,
      "max_height": null,
      "max_width": null,
      "min_height": null,
      "min_width": null,
      "object_fit": null,
      "object_position": null,
      "order": null,
      "overflow": null,
      "overflow_x": null,
      "overflow_y": null,
      "padding": null,
      "right": null,
      "top": null,
      "visibility": null,
      "width": null
     }
    },
    "6c7cac03e87d431399aa2c5e66d5fad7": {
     "model_module": "@jupyter-widgets/base",
     "model_name": "LayoutModel",
     "state": {
      "_model_module": "@jupyter-widgets/base",
      "_model_module_version": "1.2.0",
      "_model_name": "LayoutModel",
      "_view_count": null,
      "_view_module": "@jupyter-widgets/base",
      "_view_module_version": "1.2.0",
      "_view_name": "LayoutView",
      "align_content": null,
      "align_items": null,
      "align_self": null,
      "border": null,
      "bottom": null,
      "display": null,
      "flex": null,
      "flex_flow": null,
      "grid_area": null,
      "grid_auto_columns": null,
      "grid_auto_flow": null,
      "grid_auto_rows": null,
      "grid_column": null,
      "grid_gap": null,
      "grid_row": null,
      "grid_template_areas": null,
      "grid_template_columns": null,
      "grid_template_rows": null,
      "height": null,
      "justify_content": null,
      "justify_items": null,
      "left": null,
      "margin": null,
      "max_height": null,
      "max_width": null,
      "min_height": null,
      "min_width": null,
      "object_fit": null,
      "object_position": null,
      "order": null,
      "overflow": null,
      "overflow_x": null,
      "overflow_y": null,
      "padding": null,
      "right": null,
      "top": null,
      "visibility": null,
      "width": null
     }
    },
    "86aaa2fb6e6b496d90a3b33a662db156": {
     "model_module": "@jupyter-widgets/controls",
     "model_name": "HBoxModel",
     "state": {
      "_dom_classes": [],
      "_model_module": "@jupyter-widgets/controls",
      "_model_module_version": "1.5.0",
      "_model_name": "HBoxModel",
      "_view_count": null,
      "_view_module": "@jupyter-widgets/controls",
      "_view_module_version": "1.5.0",
      "_view_name": "HBoxView",
      "box_style": "",
      "children": [
       "IPY_MODEL_a672862058dc42c7b1fe09685f831855",
       "IPY_MODEL_e66071e0211045db9b3463aaf47eb595"
      ],
      "layout": "IPY_MODEL_09595a8d34ef4ac8b3f1f8c0404fb51a"
     }
    },
    "9807a51d412844cc94820a80e46050e8": {
     "model_module": "@jupyter-widgets/controls",
     "model_name": "HBoxModel",
     "state": {
      "_dom_classes": [],
      "_model_module": "@jupyter-widgets/controls",
      "_model_module_version": "1.5.0",
      "_model_name": "HBoxModel",
      "_view_count": null,
      "_view_module": "@jupyter-widgets/controls",
      "_view_module_version": "1.5.0",
      "_view_name": "HBoxView",
      "box_style": "",
      "children": [
       "IPY_MODEL_fcf1c25a1d0f405dbe33c49b5abd2abf",
       "IPY_MODEL_5345fa611826412eb46c2fed23592182"
      ],
      "layout": "IPY_MODEL_69b0ab7338af470d9a51e58d4190477a"
     }
    },
    "9a5d4d6ccd114e218ca4e00861c06fbd": {
     "model_module": "@jupyter-widgets/controls",
     "model_name": "ProgressStyleModel",
     "state": {
      "_model_module": "@jupyter-widgets/controls",
      "_model_module_version": "1.5.0",
      "_model_name": "ProgressStyleModel",
      "_view_count": null,
      "_view_module": "@jupyter-widgets/base",
      "_view_module_version": "1.2.0",
      "_view_name": "StyleView",
      "bar_color": null,
      "description_width": "initial"
     }
    },
    "9c132249ca8f4c6ea4de83ead90c5510": {
     "model_module": "@jupyter-widgets/base",
     "model_name": "LayoutModel",
     "state": {
      "_model_module": "@jupyter-widgets/base",
      "_model_module_version": "1.2.0",
      "_model_name": "LayoutModel",
      "_view_count": null,
      "_view_module": "@jupyter-widgets/base",
      "_view_module_version": "1.2.0",
      "_view_name": "LayoutView",
      "align_content": null,
      "align_items": null,
      "align_self": null,
      "border": null,
      "bottom": null,
      "display": null,
      "flex": null,
      "flex_flow": null,
      "grid_area": null,
      "grid_auto_columns": null,
      "grid_auto_flow": null,
      "grid_auto_rows": null,
      "grid_column": null,
      "grid_gap": null,
      "grid_row": null,
      "grid_template_areas": null,
      "grid_template_columns": null,
      "grid_template_rows": null,
      "height": null,
      "justify_content": null,
      "justify_items": null,
      "left": null,
      "margin": null,
      "max_height": null,
      "max_width": null,
      "min_height": null,
      "min_width": null,
      "object_fit": null,
      "object_position": null,
      "order": null,
      "overflow": null,
      "overflow_x": null,
      "overflow_y": null,
      "padding": null,
      "right": null,
      "top": null,
      "visibility": null,
      "width": null
     }
    },
    "9c4f56ec700b4abf9f7e4b8a7ec8f455": {
     "model_module": "@jupyter-widgets/controls",
     "model_name": "ProgressStyleModel",
     "state": {
      "_model_module": "@jupyter-widgets/controls",
      "_model_module_version": "1.5.0",
      "_model_name": "ProgressStyleModel",
      "_view_count": null,
      "_view_module": "@jupyter-widgets/base",
      "_view_module_version": "1.2.0",
      "_view_name": "StyleView",
      "bar_color": null,
      "description_width": "initial"
     }
    },
    "a672862058dc42c7b1fe09685f831855": {
     "model_module": "@jupyter-widgets/controls",
     "model_name": "FloatProgressModel",
     "state": {
      "_dom_classes": [],
      "_model_module": "@jupyter-widgets/controls",
      "_model_module_version": "1.5.0",
      "_model_name": "FloatProgressModel",
      "_view_count": null,
      "_view_module": "@jupyter-widgets/controls",
      "_view_module_version": "1.5.0",
      "_view_name": "ProgressView",
      "bar_style": "success",
      "description": "Downloading: 100%",
      "description_tooltip": null,
      "layout": "IPY_MODEL_1bcf3c597aeb421d88bcd69f2e33c368",
      "max": 466062,
      "min": 0,
      "orientation": "horizontal",
      "style": "IPY_MODEL_5dafd719ba334a92b02ad11c08f21041",
      "value": 466062
     }
    },
    "a89dbc137763414fb5b7b38fd448ffa0": {
     "model_module": "@jupyter-widgets/controls",
     "model_name": "HTMLModel",
     "state": {
      "_dom_classes": [],
      "_model_module": "@jupyter-widgets/controls",
      "_model_module_version": "1.5.0",
      "_model_name": "HTMLModel",
      "_view_count": null,
      "_view_module": "@jupyter-widgets/controls",
      "_view_module_version": "1.5.0",
      "_view_name": "HTMLView",
      "description": "",
      "description_tooltip": null,
      "layout": "IPY_MODEL_6c7cac03e87d431399aa2c5e66d5fad7",
      "placeholder": "​",
      "style": "IPY_MODEL_c3ee13c3f4ff471890009ca9b10cb0ce",
      "value": " 268M/268M [00:05&lt;00:00, 50.1MB/s]"
     }
    },
    "ae0f4ac1d53a467bb132577c7dc8f404": {
     "model_module": "@jupyter-widgets/controls",
     "model_name": "DescriptionStyleModel",
     "state": {
      "_model_module": "@jupyter-widgets/controls",
      "_model_module_version": "1.5.0",
      "_model_name": "DescriptionStyleModel",
      "_view_count": null,
      "_view_module": "@jupyter-widgets/base",
      "_view_module_version": "1.2.0",
      "_view_name": "StyleView",
      "description_width": ""
     }
    },
    "b4c28d78419c4aad9ca3bd2ba622612d": {
     "model_module": "@jupyter-widgets/base",
     "model_name": "LayoutModel",
     "state": {
      "_model_module": "@jupyter-widgets/base",
      "_model_module_version": "1.2.0",
      "_model_name": "LayoutModel",
      "_view_count": null,
      "_view_module": "@jupyter-widgets/base",
      "_view_module_version": "1.2.0",
      "_view_name": "LayoutView",
      "align_content": null,
      "align_items": null,
      "align_self": null,
      "border": null,
      "bottom": null,
      "display": null,
      "flex": null,
      "flex_flow": null,
      "grid_area": null,
      "grid_auto_columns": null,
      "grid_auto_flow": null,
      "grid_auto_rows": null,
      "grid_column": null,
      "grid_gap": null,
      "grid_row": null,
      "grid_template_areas": null,
      "grid_template_columns": null,
      "grid_template_rows": null,
      "height": null,
      "justify_content": null,
      "justify_items": null,
      "left": null,
      "margin": null,
      "max_height": null,
      "max_width": null,
      "min_height": null,
      "min_width": null,
      "object_fit": null,
      "object_position": null,
      "order": null,
      "overflow": null,
      "overflow_x": null,
      "overflow_y": null,
      "padding": null,
      "right": null,
      "top": null,
      "visibility": null,
      "width": null
     }
    },
    "bac45c29b5af4061b9ebaceffa03e227": {
     "model_module": "@jupyter-widgets/controls",
     "model_name": "DescriptionStyleModel",
     "state": {
      "_model_module": "@jupyter-widgets/controls",
      "_model_module_version": "1.5.0",
      "_model_name": "DescriptionStyleModel",
      "_view_count": null,
      "_view_module": "@jupyter-widgets/base",
      "_view_module_version": "1.2.0",
      "_view_name": "StyleView",
      "description_width": ""
     }
    },
    "bf82582bafb84c9b82b48df4991e3027": {
     "model_module": "@jupyter-widgets/controls",
     "model_name": "DescriptionStyleModel",
     "state": {
      "_model_module": "@jupyter-widgets/controls",
      "_model_module_version": "1.5.0",
      "_model_name": "DescriptionStyleModel",
      "_view_count": null,
      "_view_module": "@jupyter-widgets/base",
      "_view_module_version": "1.2.0",
      "_view_name": "StyleView",
      "description_width": ""
     }
    },
    "c3ee13c3f4ff471890009ca9b10cb0ce": {
     "model_module": "@jupyter-widgets/controls",
     "model_name": "DescriptionStyleModel",
     "state": {
      "_model_module": "@jupyter-widgets/controls",
      "_model_module_version": "1.5.0",
      "_model_name": "DescriptionStyleModel",
      "_view_count": null,
      "_view_module": "@jupyter-widgets/base",
      "_view_module_version": "1.2.0",
      "_view_name": "StyleView",
      "description_width": ""
     }
    },
    "ca77bb0c4702402093b7e064f48e5f80": {
     "model_module": "@jupyter-widgets/controls",
     "model_name": "HBoxModel",
     "state": {
      "_dom_classes": [],
      "_model_module": "@jupyter-widgets/controls",
      "_model_module_version": "1.5.0",
      "_model_name": "HBoxModel",
      "_view_count": null,
      "_view_module": "@jupyter-widgets/controls",
      "_view_module_version": "1.5.0",
      "_view_name": "HBoxView",
      "box_style": "",
      "children": [
       "IPY_MODEL_56d2154d271a42d7897274470dbaad16",
       "IPY_MODEL_a89dbc137763414fb5b7b38fd448ffa0"
      ],
      "layout": "IPY_MODEL_4568f5b33a7b478eacf77cb1aed99339"
     }
    },
    "e66071e0211045db9b3463aaf47eb595": {
     "model_module": "@jupyter-widgets/controls",
     "model_name": "HTMLModel",
     "state": {
      "_dom_classes": [],
      "_model_module": "@jupyter-widgets/controls",
      "_model_module_version": "1.5.0",
      "_model_name": "HTMLModel",
      "_view_count": null,
      "_view_module": "@jupyter-widgets/controls",
      "_view_module_version": "1.5.0",
      "_view_name": "HTMLView",
      "description": "",
      "description_tooltip": null,
      "layout": "IPY_MODEL_6c44d628fdc341b4816f97a1dffaefca",
      "placeholder": "​",
      "style": "IPY_MODEL_ae0f4ac1d53a467bb132577c7dc8f404",
      "value": " 466k/466k [00:00&lt;00:00, 1.03MB/s]"
     }
    },
    "edcd45f568984cbfaad12b85dcbc8ad5": {
     "model_module": "@jupyter-widgets/controls",
     "model_name": "FloatProgressModel",
     "state": {
      "_dom_classes": [],
      "_model_module": "@jupyter-widgets/controls",
      "_model_module_version": "1.5.0",
      "_model_name": "FloatProgressModel",
      "_view_count": null,
      "_view_module": "@jupyter-widgets/controls",
      "_view_module_version": "1.5.0",
      "_view_name": "ProgressView",
      "bar_style": "success",
      "description": "Downloading: 100%",
      "description_tooltip": null,
      "layout": "IPY_MODEL_efa3d5a8ccb84536a3b88d35486d4df3",
      "max": 28,
      "min": 0,
      "orientation": "horizontal",
      "style": "IPY_MODEL_2f4392115efe4c73a6ec9d695e2bfab9",
      "value": 28
     }
    },
    "efa3d5a8ccb84536a3b88d35486d4df3": {
     "model_module": "@jupyter-widgets/base",
     "model_name": "LayoutModel",
     "state": {
      "_model_module": "@jupyter-widgets/base",
      "_model_module_version": "1.2.0",
      "_model_name": "LayoutModel",
      "_view_count": null,
      "_view_module": "@jupyter-widgets/base",
      "_view_module_version": "1.2.0",
      "_view_name": "LayoutView",
      "align_content": null,
      "align_items": null,
      "align_self": null,
      "border": null,
      "bottom": null,
      "display": null,
      "flex": null,
      "flex_flow": null,
      "grid_area": null,
      "grid_auto_columns": null,
      "grid_auto_flow": null,
      "grid_auto_rows": null,
      "grid_column": null,
      "grid_gap": null,
      "grid_row": null,
      "grid_template_areas": null,
      "grid_template_columns": null,
      "grid_template_rows": null,
      "height": null,
      "justify_content": null,
      "justify_items": null,
      "left": null,
      "margin": null,
      "max_height": null,
      "max_width": null,
      "min_height": null,
      "min_width": null,
      "object_fit": null,
      "object_position": null,
      "order": null,
      "overflow": null,
      "overflow_x": null,
      "overflow_y": null,
      "padding": null,
      "right": null,
      "top": null,
      "visibility": null,
      "width": null
     }
    },
    "f3cc143bf9f8411f85562bd4d663e687": {
     "model_module": "@jupyter-widgets/controls",
     "model_name": "HTMLModel",
     "state": {
      "_dom_classes": [],
      "_model_module": "@jupyter-widgets/controls",
      "_model_module_version": "1.5.0",
      "_model_name": "HTMLModel",
      "_view_count": null,
      "_view_module": "@jupyter-widgets/controls",
      "_view_module_version": "1.5.0",
      "_view_name": "HTMLView",
      "description": "",
      "description_tooltip": null,
      "layout": "IPY_MODEL_12d2937aa4dc4197b7a82d4feb963524",
      "placeholder": "​",
      "style": "IPY_MODEL_bf82582bafb84c9b82b48df4991e3027",
      "value": " 442/442 [00:07&lt;00:00, 63.0B/s]"
     }
    },
    "fa409aefb0024c559b5b5bd9b442e6e5": {
     "model_module": "@jupyter-widgets/controls",
     "model_name": "DescriptionStyleModel",
     "state": {
      "_model_module": "@jupyter-widgets/controls",
      "_model_module_version": "1.5.0",
      "_model_name": "DescriptionStyleModel",
      "_view_count": null,
      "_view_module": "@jupyter-widgets/base",
      "_view_module_version": "1.2.0",
      "_view_name": "StyleView",
      "description_width": ""
     }
    },
    "fcf1c25a1d0f405dbe33c49b5abd2abf": {
     "model_module": "@jupyter-widgets/controls",
     "model_name": "FloatProgressModel",
     "state": {
      "_dom_classes": [],
      "_model_module": "@jupyter-widgets/controls",
      "_model_module_version": "1.5.0",
      "_model_name": "FloatProgressModel",
      "_view_count": null,
      "_view_module": "@jupyter-widgets/controls",
      "_view_module_version": "1.5.0",
      "_view_name": "ProgressView",
      "bar_style": "success",
      "description": "Downloading: 100%",
      "description_tooltip": null,
      "layout": "IPY_MODEL_00fbed31abf342bca71412e28162223f",
      "max": 231508,
      "min": 0,
      "orientation": "horizontal",
      "style": "IPY_MODEL_9a5d4d6ccd114e218ca4e00861c06fbd",
      "value": 231508
     }
    }
   }
  }
 },
 "nbformat": 4,
 "nbformat_minor": 4
}
